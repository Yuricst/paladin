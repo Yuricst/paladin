{
 "cells": [
  {
   "cell_type": "markdown",
   "id": "72c0203e",
   "metadata": {},
   "source": [
    "# Developing custom gradient and multiple shooting method for full ephemeris transition"
   ]
  },
  {
   "cell_type": "code",
   "execution_count": 156,
   "id": "fe164e6c",
   "metadata": {},
   "outputs": [
    {
     "name": "stdout",
     "output_type": "stream",
     "text": [
      "The autoreload extension is already loaded. To reload it, use:\n",
      "  %reload_ext autoreload\n"
     ]
    }
   ],
   "source": [
    "import numpy as np\n",
    "import spiceypy as spice\n",
    "import matplotlib.pyplot as plt\n",
    "from matplotlib import cm\n",
    "import os\n",
    "import pygmo as pg\n",
    "import pygmo_plugins_nonfree as ppnf\n",
    "from pprint import pprint\n",
    "\n",
    "%load_ext autoreload\n",
    "%autoreload 2"
   ]
  },
  {
   "cell_type": "code",
   "execution_count": 118,
   "id": "2fb46292",
   "metadata": {},
   "outputs": [],
   "source": [
    "import sys \n",
    "sys.path.append(\"../\")\n",
    "import luna2"
   ]
  },
  {
   "cell_type": "code",
   "execution_count": 297,
   "id": "392e4ceb",
   "metadata": {},
   "outputs": [],
   "source": [
    "def print_matrix(mat, max_digit=7):\n",
    "    nrow,ncol = mat.shape\n",
    "    for i in range(nrow):\n",
    "        row_str = \"\"\n",
    "        for j in range(ncol):\n",
    "            num_str = f\"{mat[i,j]: 1.2f}\"\n",
    "            row_str += \" \"*(max_digit - len(num_str)) + num_str + \" \"\n",
    "        print(row_str)\n",
    "    return"
   ]
  },
  {
   "cell_type": "code",
   "execution_count": 3,
   "id": "cf898b3f",
   "metadata": {},
   "outputs": [],
   "source": [
    "spice.furnsh(os.path.join(os.getenv(\"SPICE\"), \"lsk\", \"naif0012.tls\"))\n",
    "spice.furnsh(os.path.join(os.getenv(\"SPICE\"), \"spk\", \"de440.bsp\"))\n",
    "spice.furnsh(os.path.join(\"..\", \"assets\", \"spice\", \"earth_moon_rotating_mc.tf\"))  # custom frame kernel"
   ]
  },
  {
   "cell_type": "code",
   "execution_count": 30,
   "id": "ae7d0337",
   "metadata": {},
   "outputs": [],
   "source": [
    "# seed halo in CR3BP\n",
    "mu_cr3bp = 1.215058560962404E-2\n",
    "lstar = 389703.0\n",
    "tstar = 382981.0\n",
    "vstar = lstar/tstar\n",
    "\n",
    "# ID723 in southern halo\n",
    "x0_cr3bp = np.array([\n",
    "    1.0134037728554581E+0, 0, -1.7536227281091840E-1,\n",
    "    0, -8.3688427472776439E-2, 0\n",
    "])\n",
    "period = 1.3960732332950263E+0"
   ]
  },
  {
   "cell_type": "code",
   "execution_count": 31,
   "id": "1a13b777",
   "metadata": {},
   "outputs": [],
   "source": [
    "# create CR3BP propagator & propagate over one period\n",
    "prop_cr3bp = luna2.PropagatorCR3BP(mu_cr3bp)\n",
    "#t_eval = np.linspace(0,period,500)   \n",
    "t_eval = [0, period/2, period, 1.5*period, 2*period]\n",
    "res_cr3bp = prop_cr3bp.solve(\n",
    "    [0,t_eval[-1]], x0_cr3bp, t_eval=t_eval, dense_output=True\n",
    ")\n",
    "states_cr3bp_MC = luna2.canonical_to_dimensional(\n",
    "    luna2.shift_barycenter_to_m2(res_cr3bp.y, mu_cr3bp),\n",
    "    lstar, \n",
    "    vstar\n",
    ")"
   ]
  },
  {
   "cell_type": "code",
   "execution_count": 224,
   "id": "0bfb1f14",
   "metadata": {},
   "outputs": [
    {
     "name": "stdout",
     "output_type": "stream",
     "text": [
      "Creating N-body integrator...\n"
     ]
    }
   ],
   "source": [
    "# transform to propagator's frame\n",
    "et0 = spice.utc2et(\"2025-12-18T12:28:28\")\n",
    "epochs = et0 + res_cr3bp.t*tstar\n",
    "states_J2000 = luna2.apply_frame_transformation(\n",
    "    epochs,\n",
    "    states_cr3bp_MC,\n",
    "    \"EARTHMOONROTATINGMC\",\n",
    "    \"J2000\"\n",
    ")\n",
    "states_J2000 = luna2.dimensional_to_canonical(states_J2000, lstar, vstar)\n",
    "\n",
    "# create N-body propagator\n",
    "print(\"Creating N-body integrator...\")\n",
    "et0 = spice.utc2et(\"2025-12-18T12:28:28\")\n",
    "mus = [\n",
    "    mu_cr3bp,    #4902.800066,\n",
    "    1-mu_cr3bp,  #398600.44,\n",
    "]\n",
    "prop_nbody = luna2.PropagatorNBody(\n",
    "    \"J2000\",\n",
    "    [\"301\", \"399\"], \n",
    "    mus,\n",
    "    lstar,\n",
    "    tstar,\n",
    "    use_canonical=True,\n",
    ")\n",
    "res_nbody = prop_nbody.solve(\n",
    "    et0,\n",
    "    [0,res_cr3bp.t[-1]],\n",
    "    states_J2000[:,0],\n",
    "    t_eval=np.linspace(0,res_cr3bp.t[-1],1000)\n",
    ")"
   ]
  },
  {
   "cell_type": "code",
   "execution_count": 225,
   "id": "da83241f",
   "metadata": {},
   "outputs": [],
   "source": [
    "# Construct nodes for two revolutions\n",
    "state_half_period = states_J2000[:,1]\n",
    "nodes = [\n",
    "    states_J2000[:,0],\n",
    "    states_J2000[:,1],\n",
    "    #states_J2000[:,2],\n",
    "    #states_J2000[:,3],\n",
    "    #states_J2000[:,4],\n",
    "]\n",
    "tofs = [period/2 + idx for idx in range(len(nodes)-1)]\n",
    "tofs_bounds = [\n",
    "    [tof*0.85, tof*1.15] for tof in tofs\n",
    "]\n",
    "\n",
    "# create bounds on et0 and nodes\n",
    "et0_bounds = [et0 - 1000, et0 + 1000]\n",
    "nodes_bounds = [\n",
    "    luna2.get_node_bounds_relative(states_J2000[:,0], [0.15, 0.05, 0.15, 0.05, 0.15, 0.05]),\n",
    "    luna2.get_node_bounds_relative(states_J2000[:,1], [0.15, 0.05, 0.15, 0.05, 0.15, 0.05]),\n",
    "    #luna2.get_node_bounds_relative(states_J2000[:,2], [0.15, 0.05, 0.15, 0.05, 0.15, 0.05]),\n",
    "    #luna2.get_node_bounds_relative(states_J2000[:,3], [0.15, 0.05, 0.15, 0.05, 0.15, 0.05]),\n",
    "    #luna2.get_node_bounds_relative(states_J2000[:,4], [0.15, 0.05, 0.15, 0.05, 0.15, 0.05]),\n",
    "]\n",
    "\n",
    "# create UDP for full-ephemeris transition\n",
    "udp = luna2.FullEphemerisTransition(\n",
    "    prop_nbody,\n",
    "    et0,\n",
    "    nodes,\n",
    "    tofs,\n",
    "    et0_bounds=et0_bounds,\n",
    "    nodes_bounds=nodes_bounds,\n",
    "    tofs_bounds=tofs_bounds,\n",
    ")\n",
    "lb,ub = udp.get_bounds()"
   ]
  },
  {
   "cell_type": "code",
   "execution_count": 220,
   "id": "1f5af844",
   "metadata": {},
   "outputs": [
    {
     "data": {
      "text/plain": [
       "819332977.1835357"
      ]
     },
     "execution_count": 220,
     "metadata": {},
     "output_type": "execute_result"
    }
   ],
   "source": [
    "et0"
   ]
  },
  {
   "cell_type": "code",
   "execution_count": 193,
   "id": "6567ca0a",
   "metadata": {},
   "outputs": [
    {
     "name": "stdout",
     "output_type": "stream",
     "text": [
      "Appending inequality 0: [-0.00037950967541730204, 0.0002845200024350972, 0.0008140964614195556, 0.0026439150607025785, -0.006656622068177728, 0.006405466725591141]\n"
     ]
    }
   ],
   "source": [
    "# build nominal decision vector to test routines\n",
    "xtest = (np.array(ub) + np.array(lb))/2\n",
    "fvec, sol_fwd_list, sol_bck_list = udp.fitness(xtest, True, True)\n",
    "\n",
    "# unpack decision vector\n",
    "et_nodes, tofs, nodes = udp.unpack_x(xtest)"
   ]
  },
  {
   "cell_type": "code",
   "execution_count": 275,
   "id": "29991740",
   "metadata": {},
   "outputs": [
    {
     "name": "stdout",
     "output_type": "stream",
     "text": [
      "    -0.824     -0.015     -0.049     -0.327     -0.001     -0.007 \n",
      "    -0.016     -0.947      0.083     -0.001     -0.342      0.011 \n",
      "    -0.048      0.083     -1.249     -0.007      0.011     -0.379 \n",
      "     1.059     -0.017     -0.353     -0.792      0.006     -0.071 \n",
      "    -0.026      0.326      0.584      0.005     -0.935      0.113 \n",
      "    -0.333      0.570     -1.649     -0.069      0.112     -1.298 \n"
     ]
    }
   ],
   "source": [
    "svf0, stm0, sol0 = prop_nbody.get_stm_cdm(et_nodes[0], tofs[0]/2, nodes[0], get_svf=True)\n",
    "svdot0 = prop_nbody.eom(et_nodes[0], 0, svf0)\n",
    "print_matrix(-stm0)"
   ]
  },
  {
   "cell_type": "code",
   "execution_count": 276,
   "id": "2d90a468",
   "metadata": {},
   "outputs": [
    {
     "name": "stdout",
     "output_type": "stream",
     "text": [
      "    -0.824     -0.015     -0.049     -0.327     -0.001     -0.007 \n",
      "    -0.016     -0.947      0.083     -0.001     -0.342      0.011 \n",
      "    -0.048      0.083     -1.249     -0.007      0.011     -0.379 \n",
      "     1.059     -0.017     -0.353     -0.792      0.006     -0.071 \n",
      "    -0.026      0.326      0.584      0.005     -0.935      0.113 \n",
      "    -0.333      0.570     -1.649     -0.069      0.112     -1.298 \n"
     ]
    }
   ],
   "source": [
    "print_matrix(grad.reshape(7,14)[1:,1:][0:6,0:6])"
   ]
  },
  {
   "cell_type": "code",
   "execution_count": 277,
   "id": "98d09f8c",
   "metadata": {},
   "outputs": [
    {
     "name": "stdout",
     "output_type": "stream",
     "text": [
      "    32.961    105.493   -186.468     -0.994     -0.301     -0.043 \n",
      "    14.184    -40.056     35.214      0.234      0.026      0.075 \n",
      "    14.091    104.215   -246.295     -1.248     -0.319     -0.215 \n",
      "   -58.156   -264.766    505.830      2.685      0.758      0.278 \n",
      "    -7.612    178.469   -282.813     -1.532     -0.372     -0.299 \n",
      "   -72.261   -508.513   1115.086      5.707      1.466      0.891 \n"
     ]
    }
   ],
   "source": [
    "svf1, stm1, sol1 = prop_nbody.get_stm_cdm(et_nodes[1], -tofs[0]/2, nodes[1], get_svf=True)\n",
    "svdot1 = prop_nbody.eom(et_nodes[1], 0, svf1)\n",
    "print_matrix(stm1)"
   ]
  },
  {
   "cell_type": "code",
   "execution_count": 278,
   "id": "c0ac97da",
   "metadata": {},
   "outputs": [
    {
     "name": "stdout",
     "output_type": "stream",
     "text": [
      "    32.961    105.493   -186.468     -0.994     -0.301     -0.043 \n",
      "    14.184    -40.056     35.214      0.234      0.026      0.075 \n",
      "    14.091    104.215   -246.295     -1.248     -0.319     -0.215 \n",
      "   -58.156   -264.766    505.830      2.685      0.758      0.278 \n",
      "    -7.612    178.469   -282.813     -1.532     -0.372     -0.299 \n",
      "   -72.261   -508.513   1115.086      5.707      1.466      0.891 \n"
     ]
    }
   ],
   "source": [
    "print_matrix(grad.reshape(7,14)[1:,1:][0:6,6:12])"
   ]
  },
  {
   "cell_type": "code",
   "execution_count": 295,
   "id": "f63d7a00",
   "metadata": {},
   "outputs": [
    {
     "name": "stdout",
     "output_type": "stream",
     "text": [
      "  0.824   0.015   0.049   0.327   0.001   0.007  32.961  105.493 -186.468  -0.994  -0.301  -0.043 \n",
      "  0.016   0.947  -0.083   0.001   0.342  -0.011  14.184 -40.056  35.214   0.234   0.026   0.075 \n",
      "  0.048  -0.083   1.249   0.007  -0.011   0.379  14.091  104.215 -246.295  -1.248  -0.319  -0.215 \n",
      " -1.059   0.017   0.353   0.792  -0.006   0.071 -58.156 -264.766  505.830   2.685   0.758   0.278 \n",
      "  0.026  -0.326  -0.584  -0.005   0.935  -0.113  -7.612  178.469 -282.813  -1.532  -0.372  -0.299 \n",
      "  0.333  -0.570   1.649   0.069  -0.112   1.298 -72.261 -508.513  1115.086   5.707   1.466   0.891 \n"
     ]
    }
   ],
   "source": [
    "print_matrix(B, 7)"
   ]
  },
  {
   "cell_type": "code",
   "execution_count": 307,
   "id": "976033f1",
   "metadata": {},
   "outputs": [],
   "source": [
    "B = np.concatenate((-stm0,stm1), axis=1)\n",
    "C = svdot1*(-1/2) - svdot0*(1/2)"
   ]
  },
  {
   "cell_type": "code",
   "execution_count": 310,
   "id": "2dc5d4b2",
   "metadata": {},
   "outputs": [
    {
     "name": "stdout",
     "output_type": "stream",
     "text": [
      "  -0.82   -0.01   -0.05   -0.33   -0.00   -0.01   32.96  105.49 -186.47   -0.99   -0.30   -0.04    0.04 \n",
      "  -0.02   -0.95    0.08   -0.00   -0.34    0.01   14.18  -40.06   35.21    0.23    0.03    0.08    0.08 \n",
      "  -0.05    0.08   -1.25   -0.01    0.01   -0.38   14.09  104.22 -246.30   -1.25   -0.32   -0.21   -0.18 \n",
      "   1.06   -0.02   -0.35   -0.79    0.01   -0.07  -58.16 -264.77  505.83    2.69    0.76    0.28   -0.10 \n",
      "  -0.03    0.33    0.58    0.00   -0.93    0.11   -7.61  178.47 -282.81   -1.53   -0.37   -0.30    0.30 \n",
      "  -0.33    0.57   -1.65   -0.07    0.11   -1.30  -72.26 -508.51  1115.09    5.71    1.47    0.89   -0.61 \n"
     ]
    }
   ],
   "source": [
    "print_matrix(np.concatenate((B,C.reshape(-1,1)), axis=1), max_digit=7)"
   ]
  },
  {
   "cell_type": "code",
   "execution_count": 311,
   "id": "dd33b1f2",
   "metadata": {},
   "outputs": [
    {
     "name": "stdout",
     "output_type": "stream",
     "text": [
      "   0.00    0.00    0.00    0.00    0.00    0.00    0.00    0.00    0.00    0.00    0.00    0.00    0.00    0.00 \n",
      "  -0.00   -0.82   -0.01   -0.05   -0.33   -0.00   -0.01   32.96  105.49 -186.47   -0.99   -0.30   -0.04    0.04 \n",
      "   0.00   -0.02   -0.95    0.08   -0.00   -0.34    0.01   14.18  -40.06   35.21    0.23    0.03    0.08    0.09 \n",
      "   0.00   -0.05    0.08   -1.25   -0.01    0.01   -0.38   14.09  104.22 -246.30   -1.25   -0.32   -0.21   -0.18 \n",
      "  -0.00    1.06   -0.02   -0.35   -0.79    0.01   -0.07  -58.16 -264.77  505.83    2.69    0.76    0.28   -0.12 \n",
      "  -0.00   -0.03    0.33    0.58    0.00   -0.93    0.11   -7.61  178.47 -282.81   -1.53   -0.37   -0.30    0.29 \n",
      "  -0.00   -0.33    0.57   -1.65   -0.07    0.11   -1.30  -72.26 -508.51  1115.09    5.71    1.47    0.89   -0.62 \n"
     ]
    }
   ],
   "source": [
    "print_matrix(grad.reshape(7,14), max_digit=7)"
   ]
  },
  {
   "cell_type": "code",
   "execution_count": 192,
   "id": "183bddbf",
   "metadata": {},
   "outputs": [
    {
     "data": {
      "image/png": "[encoded data removed]",
      "text/plain": [
       "<Figure size 600x600 with 1 Axes>"
      ]
     },
     "metadata": {},
     "output_type": "display_data"
    }
   ],
   "source": [
    "fig = plt.figure(figsize = (6, 6))\n",
    "ax = plt.axes(projection = '3d')\n",
    "\n",
    "# ax.scatter(sol0.y[0,0], sol0.y[1,0], sol0.y[2,0], marker=\"o\", color=\"dodgerblue\")\n",
    "# ax.plot(sol0.y[0,:], sol0.y[1,:], sol0.y[2,:], color=\"dodgerblue\")\n",
    "\n",
    "# ax.scatter(sol1.y[0,0], sol1.y[1,0], sol1.y[2,0], marker=\"o\", color=\"magenta\")\n",
    "# ax.plot(sol1.y[0,:], sol1.y[1,:], sol1.y[2,:], color=\"magenta\")\n",
    "\n",
    "for sol0 in sol_fwd_list:\n",
    "    ax.scatter(sol0.y[0,0], sol0.y[1,0], sol0.y[2,0], marker=\"o\", color=\"dodgerblue\")\n",
    "    ax.plot(sol0.y[0,:], sol0.y[1,:], sol0.y[2,:], color=\"dodgerblue\")\n",
    "\n",
    "for sol1 in sol_bck_list:\n",
    "    ax.scatter(sol1.y[0,0], sol1.y[1,0], sol1.y[2,0], marker=\"o\", color=\"magenta\")\n",
    "    ax.plot(sol1.y[0,:], sol1.y[1,:], sol1.y[2,:], color=\"magenta\")\n",
    "\n",
    "ax.view_init(20,50)\n",
    "plt.show()"
   ]
  },
  {
   "cell_type": "code",
   "execution_count": 226,
   "id": "73e8dc34",
   "metadata": {},
   "outputs": [],
   "source": [
    "# test gradient evaluation\n",
    "grad = udp.gradient(xtest, dx=1e-6, use_h=False)"
   ]
  },
  {
   "cell_type": "code",
   "execution_count": 161,
   "id": "d65edaf6",
   "metadata": {},
   "outputs": [],
   "source": [
    "#print_matrix(grad.reshape(7,14), max_digit=7)"
   ]
  },
  {
   "cell_type": "code",
   "execution_count": 298,
   "id": "0e68e0c5",
   "metadata": {},
   "outputs": [
    {
     "name": "stdout",
     "output_type": "stream",
     "text": [
      "  -0.82   -0.01   -0.05   -0.33   -0.00   -0.01   32.96  105.49 -186.47   -0.99   -0.30   -0.04    0.04 \n",
      "  -0.02   -0.95    0.08   -0.00   -0.34    0.01   14.18  -40.06   35.21    0.23    0.03    0.08    0.09 \n",
      "  -0.05    0.08   -1.25   -0.01    0.01   -0.38   14.09  104.22 -246.30   -1.25   -0.32   -0.21   -0.18 \n",
      "   1.06   -0.02   -0.35   -0.79    0.01   -0.07  -58.16 -264.77  505.83    2.69    0.76    0.28   -0.12 \n",
      "  -0.03    0.33    0.58    0.00   -0.93    0.11   -7.61  178.47 -282.81   -1.53   -0.37   -0.30    0.29 \n",
      "  -0.33    0.57   -1.65   -0.07    0.11   -1.30  -72.26 -508.51  1115.09    5.71    1.47    0.89   -0.62 \n"
     ]
    }
   ],
   "source": [
    "print_matrix(grad.reshape(7,14)[1:,1:], max_digit=7)"
   ]
  },
  {
   "cell_type": "code",
   "execution_count": 299,
   "id": "f939dd82",
   "metadata": {},
   "outputs": [
    {
     "name": "stdout",
     "output_type": "stream",
     "text": [
      "  -0.82   -0.01   -0.05   -0.33   -0.00   -0.01 \n",
      "  -0.02   -0.95    0.08   -0.00   -0.34    0.01 \n",
      "  -0.05    0.08   -1.25   -0.01    0.01   -0.38 \n",
      "   1.06   -0.02   -0.35   -0.79    0.01   -0.07 \n",
      "  -0.03    0.33    0.58    0.00   -0.93    0.11 \n",
      "  -0.33    0.57   -1.65   -0.07    0.11   -1.30 \n"
     ]
    }
   ],
   "source": [
    "print_matrix(grad.reshape(7,14)[1:,1:][0:6,0:6], max_digit=7)"
   ]
  },
  {
   "cell_type": "code",
   "execution_count": null,
   "id": "601eb78c",
   "metadata": {},
   "outputs": [],
   "source": []
  },
  {
   "cell_type": "code",
   "execution_count": null,
   "id": "807ee22a",
   "metadata": {},
   "outputs": [],
   "source": []
  },
  {
   "cell_type": "code",
   "execution_count": null,
   "id": "1bc04af5",
   "metadata": {},
   "outputs": [],
   "source": []
  },
  {
   "cell_type": "code",
   "execution_count": null,
   "id": "dfe4aab1",
   "metadata": {},
   "outputs": [],
   "source": []
  },
  {
   "cell_type": "code",
   "execution_count": null,
   "id": "50fd9b01",
   "metadata": {},
   "outputs": [],
   "source": []
  },
  {
   "cell_type": "code",
   "execution_count": null,
   "id": "6d039ce3",
   "metadata": {},
   "outputs": [],
   "source": []
  }
 ],
 "metadata": {
  "kernelspec": {
   "display_name": "Python 3 (ipykernel)",
   "language": "python",
   "name": "python3"
  },
  "language_info": {
   "codemirror_mode": {
    "name": "ipython",
    "version": 3
   },
   "file_extension": ".py",
   "mimetype": "text/x-python",
   "name": "python",
   "nbconvert_exporter": "python",
   "pygments_lexer": "ipython3",
   "version": "3.11.3"
  }
 },
 "nbformat": 4,
 "nbformat_minor": 5
}
